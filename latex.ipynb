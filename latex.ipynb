{
 "cells": [
  {
   "cell_type": "markdown",
   "metadata": {},
   "source": [
    "Consider this query from the classic models:\n",
    "\n",
    "``` mysql\n",
    "select customers.customerName, offices.city as office_city\n",
    "from customers, employees, offices\n",
    "where \n",
    "\tcustomers.salesRepEmployeeNumber = employees.employeeNumber and \n",
    "\temployees.officeCode = offices.officeCode and\n",
    "    customers.city = offices.city;\n",
    "```\n",
    "1. Rewrite it as an expression in relational algebra\n",
    "2. Add row counts to the subexpressions\n",
    "3. Rewrite to a better expression"
   ]
  },
  {
   "cell_type": "markdown",
   "metadata": {},
   "source": [
    "##### 1. Rewrite it as an expression in relational algebra\n",
    "\n",
    "$\\Pi_{customers.customerName, officesCity}($\n",
    "\n",
    "$\\qquad\\rho_{officesCity/offices.city}($\n",
    "\n",
    "$\\qquad\\qquad\\sigma_{customers.salesRepEmployeeNumber = employees.employeeNumber}($\n",
    "\n",
    "$\\qquad\\qquad\\qquad\\sigma_{employees.officeCode = offices.officeCode}($\n",
    "\n",
    "$\\qquad\\qquad\\qquad\\qquad\\sigma_{customers.city = offices.city}(customers X employees X offices)$\n",
    "\n",
    "$\\qquad\\qquad\\qquad)$\n",
    "\n",
    "$\\qquad\\qquad)$\n",
    "\n",
    "$\\qquad)$\n",
    "\n",
    "$)$"
   ]
  },
  {
   "cell_type": "markdown",
   "metadata": {},
   "source": [
    "##### 2. Add row counts to the subexpressions\n",
    "\n",
    "$\\Pi_{customers.customerName, officesCity}($\n",
    "\n",
    "$\\qquad\\rho_{officesCity/offices.city}($\n",
    "\n",
    "$\\qquad\\qquad\\sigma_{customers.salesRepEmployeeNumber = employees.employeeNumber}($\n",
    "\n",
    "$\\qquad\\qquad\\qquad\\sigma_{employees.officeCode = offices.officeCode}($\n",
    "\n",
    "$\\qquad\\qquad\\qquad\\qquad\\sigma_{customers.city = offices.city}((customers^{122} X employees^{23} X offices^{7})^{19642})^{322}$\n",
    "\n",
    "$\\qquad\\qquad\\qquad)^{45}$\n",
    "\n",
    "$\\qquad\\qquad)^{14}$\n",
    "\n",
    "\n",
    "$\\qquad)$\n",
    "\n",
    "$)$"
   ]
  },
  {
   "cell_type": "markdown",
   "metadata": {},
   "source": [
    "##### 3. Rewrite to a better expression\n",
    "\n",
    "$\\Pi_{customers.customerName, offices city}($\n",
    "\n",
    "$\\qquad\\rho_{offices_city/offices.city}($\n",
    "\n",
    "$\\qquad\\qquad (employees^{23} \\bowtie^{\\bullet} (customers^{122}\\bowtie^{\\bullet} offices^{7})^{322})^{14}$\n",
    "\n",
    "$\\qquad)$\n",
    "\n",
    "$)$"
   ]
  }
 ],
 "metadata": {
  "kernelspec": {
   "display_name": "Python 3",
   "language": "python",
   "name": "python3"
  },
  "language_info": {
   "codemirror_mode": {
    "name": "ipython",
    "version": 3
   },
   "file_extension": ".py",
   "mimetype": "text/x-python",
   "name": "python",
   "nbconvert_exporter": "python",
   "pygments_lexer": "ipython3",
   "version": "3.6.7"
  }
 },
 "nbformat": 4,
 "nbformat_minor": 2
}
